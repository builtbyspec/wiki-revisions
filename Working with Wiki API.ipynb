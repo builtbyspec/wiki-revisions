{
 "cells": [
  {
   "cell_type": "code",
   "execution_count": 1,
   "metadata": {},
   "outputs": [],
   "source": [
    "import requests\n",
    "from requests import get\n",
    "import pandas as pd\n",
    "from pandas.io.json import json_normalize\n",
    "import numpy as np"
   ]
  },
  {
   "cell_type": "code",
   "execution_count": 2,
   "metadata": {},
   "outputs": [],
   "source": [
    "def flatten_dict(df, column_name):\n",
    "    df1 = df.copy()\n",
    "    flatten_col = json_normalize(df1[column_name].tolist())\n",
    "    df1 = pd.concat([df1,flatten_col], sort = False, axis = 1)\n",
    "    df1 = df1.drop(column_name, axis = 1)\n",
    "    return df1"
   ]
  },
  {
   "cell_type": "markdown",
   "metadata": {},
   "source": [
    "Read the API here...\n",
    "\n",
    "https://www.mediawiki.org/wiki/API:Revisions"
   ]
  },
  {
   "cell_type": "code",
   "execution_count": 3,
   "metadata": {},
   "outputs": [],
   "source": [
    "BASE_URL = \"http://en.wikipedia.org/w/api.php\"\n",
    "TITLE = 'California Polytechnic State University'\n",
    "\n",
    "parameters = { 'action': 'query',\n",
    "           'format': 'json',\n",
    "           'continue': '',\n",
    "           'titles': TITLE,\n",
    "           'prop': 'revisions',\n",
    "           'rvprop': 'ids|userid|user|timestamp|comment|content|tags',\n",
    "           'rvlimit': 'max'}\n",
    "\n",
    "wp_call = requests.get(BASE_URL, params=parameters)\n",
    "response = wp_call.json()"
   ]
  },
  {
   "cell_type": "code",
   "execution_count": 4,
   "metadata": {},
   "outputs": [],
   "source": [
    "total_revisions = 0\n",
    "pages = []\n",
    "counter = 0\n",
    "num_calls = 10\n",
    "while True:\n",
    "    wp_call = requests.get(BASE_URL, params=parameters)\n",
    "    response = wp_call.json()\n",
    "    \n",
    "    val = str(json_normalize(response,[\"query\",\"pages\"])[0][0])\n",
    "    df = json_normalize(response,[\"query\",\"pages\",val,\"revisions\"])\n",
    "    pages.append(df)\n",
    "\n",
    "    for page_id in response['query']['pages']:\n",
    "        total_revisions += len(response['query']['pages'][page_id]['revisions'])\n",
    "\n",
    "    if 'continue' in response:\n",
    "        parameters['continue'] = response['continue']['continue']\n",
    "        parameters['rvcontinue'] = response['continue']['rvcontinue']\n",
    "        counter += 1\n",
    "    else:\n",
    "        break\n",
    "    if counter == num_calls:\n",
    "        break"
   ]
  },
  {
   "cell_type": "code",
   "execution_count": 5,
   "metadata": {},
   "outputs": [],
   "source": [
    "revisions = pd.concat(pages, sort = False)"
   ]
  },
  {
   "cell_type": "code",
   "execution_count": 6,
   "metadata": {},
   "outputs": [],
   "source": [
    "def ipInfo(addr=''):\n",
    "    from urllib.request import urlopen\n",
    "    from json import load\n",
    "    if addr == '':\n",
    "        url = 'https://ipinfo.io/json'\n",
    "    else:\n",
    "        url = 'https://ipinfo.io/' + addr + '/json'\n",
    "    res = urlopen(url)\n",
    "    #response from url(if res==None then check connection)\n",
    "    data = load(res)\n",
    "    #will load the json response into data\n",
    "    dat = pd.DataFrame(data,index = range(len(data)))\n",
    "    return dat"
   ]
  },
  {
   "cell_type": "code",
   "execution_count": 7,
   "metadata": {},
   "outputs": [],
   "source": [
    "location_info = revisions[revisions[\"userid\"] == 0][\"user\"].apply(ipInfo)"
   ]
  },
  {
   "cell_type": "code",
   "execution_count": 8,
   "metadata": {},
   "outputs": [],
   "source": [
    "loc_df = pd.concat(location_info.values, sort = False, ignore_index = True)"
   ]
  },
  {
   "cell_type": "code",
   "execution_count": 52,
   "metadata": {},
   "outputs": [],
   "source": [
    "def get_fips(loc):\n",
    "    loc = loc.split(\",\")\n",
    "    lat = loc[0]\n",
    "    long = loc[1]\n",
    "    url = (\"https://geo.fcc.gov/api/census/block/find?latitude={0}&longitude={1}&format=json\".\n",
    "           format(lat,long))\n",
    "    res = requests.get(url)\n",
    "    data = res.json()\n",
    "    return data[\"County\"][\"FIPS\"]"
   ]
  },
  {
   "cell_type": "code",
   "execution_count": 136,
   "metadata": {},
   "outputs": [],
   "source": [
    "unique_loc = loc_df.drop_duplicates()\n",
    "\n",
    "unique_loc[\"FIPS\"] = unique_loc[\"loc\"].apply(get_fips)\n",
    "\n",
    "loc_fips = loc_df.merge(unique_loc[[\"city\",\"FIPS\"]].drop_duplicates(),\n",
    "                         on =\"city\")\n",
    "loc_fips = loc_fips[(loc_fips[\"FIPS\"] != \"None\") & ~(loc_fips[\"FIPS\"].isna())]\n",
    "loc_fips[\"FIPS\"] = loc_fips[\"FIPS\"].astype(\"int64\")"
   ]
  },
  {
   "cell_type": "code",
   "execution_count": 177,
   "metadata": {},
   "outputs": [
    {
     "data": {
      "text/html": [
       "<iframe id=\"igraph\" scrolling=\"no\" style=\"border:none;\" seamless=\"seamless\" src=\"https://plot.ly/~chickenburrito1/4.embed\" height=\"450px\" width=\"900px\"></iframe>"
      ],
      "text/plain": [
       "<chart_studio.tools.PlotlyDisplay object>"
      ]
     },
     "execution_count": 177,
     "metadata": {},
     "output_type": "execute_result"
    }
   ],
   "source": [
    "import plotly.plotly as py\n",
    "import plotly.figure_factory as ff\n",
    "\n",
    "values = loc_fips[\"FIPS\"].value_counts().values\n",
    "fips = loc_fips[\"FIPS\"].value_counts().index\n",
    "\n",
    "endpts = list(np.mgrid[min(values):max(values):4j])\n",
    "colorscale = [\"#030512\",\"#1d1d3b\",\"#323268\",\"#3d4b94\",\"#3e6ab0\",\n",
    "              \"#4989bc\",\"#60a7c7\",\"#85c5d3\",\"#b7e0e4\",\"#eafcfd\"]\n",
    "\n",
    "fig = ff.create_choropleth(\n",
    "    fips=fips, values=values, show_state_data=True,\n",
    "    colorscale=colorscale, binning_endpoints=endpts, round_legend_values=True,\n",
    "    plot_bgcolor='rgb(229,229,229)',\n",
    "    paper_bgcolor='rgb(229,229,229)',\n",
    "    legend_title='Edits by County',\n",
    "    county_outline={'color': 'rgb(255,255,255)', 'width': 0.5},\n",
    "    exponent_format=True,\n",
    "    title = 'Map of Anonymous Revisions for Cal Poly Wiki in US',\n",
    ")\n",
    "py.iplot(fig, filename='choropleth_california')"
   ]
  },
  {
   "cell_type": "code",
   "execution_count": 11,
   "metadata": {},
   "outputs": [],
   "source": [
    "import difflib"
   ]
  },
  {
   "cell_type": "code",
   "execution_count": 12,
   "metadata": {},
   "outputs": [],
   "source": [
    "def _unidiff_output(expected, actual):\n",
    "    expected=expected.splitlines(1)\n",
    "    actual=actual.splitlines(1)\n",
    "    diff=difflib.unified_diff(expected, actual)\n",
    "    return ''.join(diff)\n"
   ]
  },
  {
   "cell_type": "code",
   "execution_count": 13,
   "metadata": {},
   "outputs": [
    {
     "name": "stdout",
     "output_type": "stream",
     "text": [
      "--- \n",
      "+++ \n",
      "@@ -17,7 +17,7 @@\n",
      " | postgrad = 881 (Fall 2016)<ref name=Enrollment/>\n",
      " | city = [[San Luis Obispo, California|San Luis Obispo]]\n",
      " | state = [[California]]\n",
      "-| country = United States\n",
      "+| country = U.S.\n",
      " | campus = Suburban, {{convert|9678|acre|ha}} Total; {{convert|1321|acre|ha}} for the Main Campus; {{convert|155|acre|ha}} for the Campus Core<ref name=quickfacts2012>{{cite web|url=http://www.calpoly.edu/aboutcp/our_campus.html |title=Our Campus - About Cal Poly - Cal Poly, San Luis Obispo |publisher=www.calpoly.edu |accessdate=July 17, 2016}}</ref>\n",
      " | colors = Green and Gold<ref>{{cite web|url=https://universitymarketing.calpoly.edu/resources/graphic-standards/primary-colors/|title=Cal Poly Marketing -   Primary Colors|website=universitymarketing.calpoly.edu|accessdate=16 May 2018}}</ref><br/>{{color box|#035642}}&nbsp;{{color box|#B4A76C}}\n",
      " | mascot = Musty the Mustang\n",
      "@@ -28,7 +28,7 @@\n",
      " | logo = [[File:Cal Poly San Luis Obispo wordmark.svg|150px]]\n",
      " }}\n",
      " \n",
      "-'''California Polytechnic State University''' (also known as '''California Polytechnic State University, San Luis Obispo''',<ref name=\"CSU styleguide\">{{cite web|title=Campus Names |url=https://www2.calstate.edu/csu-system/csu-branding-standards/editorial-style-guide/Pages/campus-names.aspx|work=calstate.edu|publisher=California State University|accessdate=October 30, 2018}}</ref> '''Cal Poly San Luis Obispo,'''<ref name=\"CSU styleguide\" /> or '''Cal Poly,'''<ref>{{cite web|url=http://warc.calpoly.edu/universityid/univnameuse.html|title=Cal Poly Name Usage|work=calpoly.edu|access-date=2008-09-30|archive-url=https://web.archive.org/web/20160303175255/http://warc.calpoly.edu/universityid/univnameuse.html|archive-date=2016-03-03|dead-url=yes|df=}}</ref>) is a [[public university]] in [[San Luis Obispo, California]]. It is one of [[Cal Poly (disambiguation)|two polytechnics]] in the [[California State University]] system.\n",
      "+'''California Polytechnic State University''' (also known as '''California Polytechnic State University, San Luis Obispo''',<ref name=\"CSU styleguide\">{{cite web|title=Campus Names |url=https://www2.calstate.edu/csu-system/csu-branding-standards/editorial-style-guide/Pages/campus-names.aspx|work=calstate.edu|publisher=California State University|accessdate=October 30, 2018}}</ref> '''Cal Poly San Luis Obispo,'''<ref name=\"CSU styleguide\" /> or '''Cal Poly,'''<ref>{{cite web|url=http://warc.calpoly.edu/universityid/univnameuse.html|title=Cal Poly Name Usage|work=calpoly.edu}}</ref>) is a [[public university]] located in [[San Luis Obispo, California]]. It is one of [[Cal Poly (disambiguation)|two polytechnics]] in the [[California State University]] system.\n",
      " \n",
      " The university is organized into six colleges offering 64 [[bachelor's degrees|bachelor's]] and 32 [[master's degrees]].  Cal Poly San Luis Obispo primarily focuses on undergraduate education with 20,425 undergraduate and 881 graduate students.<ref name=\"PolyView\">{{cite web|url=http://content-calpoly-edu.s3.amazonaws.com/ir/1/images/Fall%202015%20PolyView%20-%20FINAL%2012_22_15.pdf|title=Poly View Fall 2015|publisher=Institutional Research, California Polytechnic State University}}</ref><ref>[http://degrees.calstate.edu/uploads/55/64/5564d4b6ec1584227ca2d1054c759f0f/Credential-Programs-08212012.pdf California State University Credential Programs - 2013-2014] {{webarchive|url=https://web.archive.org/web/20150424234126/http://degrees.calstate.edu/uploads/55/64/5564d4b6ec1584227ca2d1054c759f0f/Credential-Programs-08212012.pdf|date=2015-04-24}}</ref> The university is located in San Luis Obispo, California, often noted as one of the happiest cities in the United States,<ref>{{Cite news|url=https://www.cnn.com/2017/11/22/health/happiest-cities-blue-zones/index.html|title=The happiest cities in America, according to new research|last=|first=|date=|work=CNN|access-date=2018-01-27}}</ref><ref>{{Cite news|url=https://www.nationalgeographic.com/travel/destinations/north-america/united-states/happiest-cities-united-states-2017/|title=These Are the Happiest Cities in the United States|last=|first=|date=2017-10-18|work=National Geographic|access-date=2018-01-27}}</ref><ref>{{Cite news|url=https://www.rd.com/advice/travel/the-4-happiest-cities-on-earth/|title=The 4 Happiest Cities on Earth|date=2011-02-23|work=Reader's Digest|access-date=2018-01-27|language=en-US}}</ref><ref>{{Cite news|url=http://www.sanluisobispo.com/news/local/article39142755.html|title=Watch the 'Oprah' segment about San Luis Obispo being America's happiest city|last=|first=|date=|work=Oprah|access-date=2018-01-27|language=en}}</ref> with many alumni in Silicon Valley.<ref>{{Cite news|url=http://www.businessinsider.com/silicon-valley-hiring-most-popular-universities-2015-7/#-university-of-michigan-4|title=The 20 universities that are most likely to land you a job in Silicon Valley|work=Business Insider|access-date=2018-01-27|language=en}}</ref> The university participates in the [[Big West Conference]] in athletics.\n",
      " \n",
      "@@ -57,7 +57,7 @@\n",
      " In 1903, Cal Poly San Luis Obispo opened as a [[coeducational]] school with 20 students enrolled, 16 new male students and 4 new female students.<ref>Morris Eugene Smith. ''A History of California State Polytechnic College, The First Fifty Years''. Masters Thesis, 1958. pg. 13.</ref> In 1930, Cal Poly San Luis Obispo banned women from the entire school until 1956 when it once again began admitting female students. The university remains coeducational today, with women constituting 46.7% of the Fall 2015 total student population.<ref name=Infobrief/>\n",
      " \n",
      " ==Name==\n",
      "-Unofficially, the school is typically referred to as \"Cal Poly SLO\", or simply \"Cal Poly\".  The university's style guide indicates its official names are \"California Polytechnic State University\" and \"Cal Poly.\"<ref>{{cite web |url=http://warc.calpoly.edu/universityid/univnameuse.html |title=Cal Poly Name |accessdate=October 6, 2012 |archive-url=https://web.archive.org/web/20160303175255/http://warc.calpoly.edu/universityid/univnameuse.html |archive-date=2016-03-03 |dead-url=yes |df= }}</ref> When necessary to distinguish between Cal Poly and its former satellite campus, Cal Poly Pomona, the lengthier \"Cal Poly at San Luis Obispo\" is occasionally used. The [[California State University]] system's style guide identifies the university as \"California Polytechnic State University, San Luis Obispo\" and the elided \"Cal Poly San Luis Obispo.\"<ref name=csuname>{{cite web |title=Campus Names|url=http://www.calstate.edu/brand/styleguide/campus-names.shtml|work=The California State University Branding Standards Guide|publisher=[[California State University]] |accessdate=January 11, 2013}}</ref> Although Cal Poly San Luis Obispo is part of the [[California State University]], its naming convention does not follow that of most campuses within the system (for example, the CSU campus in San Diego bears the full official name \"[[San Diego State University]]\" and the CSU campus in [[Fullerton, California|Fullerton]] uses the name \"[[California State University, Fullerton]]\").<ref>{{cite web| title=The New SDSU Graphic Identity System| url=http://advancement.sdsu.edu/marcomm/logo/SDSU_User_Manual_1.3.pdf| format=PDF| work=[[San Diego State University]]| page=4| accessdate=March 28, 2011| archive-url=https://web.archive.org/web/20110518052139/http://advancement.sdsu.edu/marcomm/logo/SDSU_User_Manual_1.3.pdf| archive-date=2011-05-18| dead-url=yes| df=}}</ref><ref>{{cite web| title=Editorial Style| url=http://www.fullerton.edu/identity/downloads/guidelines/editorial-style.pdf| format=PDF| work=[[California State University, Fullerton]]| page=3| accessdate=March 28, 2011| deadurl=yes| archiveurl=https://web.archive.org/web/20110720024850/http://www.fullerton.edu/identity/downloads/guidelines/editorial-style.pdf| archivedate=July 20, 2011| df=mdy-all}}</ref> Thus, \"San Luis Obispo State University\" or \"SLO State University\" and \"California State University, San Luis Obispo\" are seldom used.\n",
      "+Unofficially, the school is typically referred to as \"Cal Poly SLO\", or simply \"Cal Poly\".  The university's style guide indicates its official names are \"California Polytechnic State University\" and \"Cal Poly.\"<ref>{{cite web |url=http://warc.calpoly.edu/universityid/univnameuse.html |title=Cal Poly Name |accessdate=October 6, 2012}}</ref> When necessary to distinguish between Cal Poly and its former satellite campus, Cal Poly Pomona, the lengthier \"Cal Poly at San Luis Obispo\" is occasionally used. The [[California State University]] system's style guide identifies the university as \"California Polytechnic State University, San Luis Obispo\" and the elided \"Cal Poly San Luis Obispo.\"<ref name=csuname>{{cite web |title=Campus Names|url=http://www.calstate.edu/brand/styleguide/campus-names.shtml|work=The California State University Branding Standards Guide|publisher=[[California State University]] |accessdate=January 11, 2013}}</ref> Although Cal Poly San Luis Obispo is part of the [[California State University]], its naming convention does not follow that of most campuses within the system (for example, the CSU campus in San Diego bears the full official name \"[[San Diego State University]]\" and the CSU campus in [[Fullerton, California|Fullerton]] uses the name \"[[California State University, Fullerton]]\").<ref>{{cite web| title=The New SDSU Graphic Identity System| url=http://advancement.sdsu.edu/marcomm/logo/SDSU_User_Manual_1.3.pdf| format=PDF| work= [[San Diego State University]]| page=4| accessdate=March 28, 2011}}</ref><ref>{{cite web| title=Editorial Style| url=http://www.fullerton.edu/identity/downloads/guidelines/editorial-style.pdf| format=PDF| work=[[California State University, Fullerton]]| page=3| accessdate=March 28, 2011| deadurl=yes| archiveurl=https://web.archive.org/web/20110720024850/http://www.fullerton.edu/identity/downloads/guidelines/editorial-style.pdf| archivedate=July 20, 2011| df=mdy-all}}</ref> Thus, \"San Luis Obispo State University\" or \"SLO State University\" and \"California State University, San Luis Obispo\" are seldom used.\n",
      " \n",
      " == Directors and presidents<ref>{{cite web|title=Cal Poly Directors and Presidents|url=http://lib.calpoly.edu/universityarchives/history/presidents/|work=Robert E. Kennedy Library at Cal Poly San Luis Obispo}}</ref> ==\n",
      " \n",
      "@@ -174,7 +174,6 @@\n",
      " ==Rankings==\n",
      " {{Infobox US university ranking\n",
      " | Forbes = 137\n",
      "-| THE_WSJ = 212\n",
      " | USNWR_REG = 12\n",
      " | Wamo_MASTERSU = 40\n",
      " }}\n",
      "@@ -273,13 +272,13 @@\n",
      " \n",
      " Greek organizations have been at Cal Poly since 1949. The Greek community consists of three governing councils at Cal Poly: United Sorority and Fraternity Council (USFC), Interfraternity Council (IFC), and Panhellenic Association (PHA). Cal Poly also offers Greek organizations based on academic fields of study.<ref>{{cite web |url=http://www.studentlife.calpoly.edu/greek/index.asp |title=Greek Life |accessdate=December 18, 2012 |work=Cal Poly |deadurl=yes |archiveurl=https://web.archive.org/web/20121226012551/http://studentlife.calpoly.edu/greek/index.asp |archivedate=December 26, 2012 |df= }}</ref>\n",
      " \n",
      "-{{as of|2018|April|17|df=US}}, Greek Life has been suspended indefinitely by the university following a number of racial controversies, the most recent of which being the 2018 Cal Poly Blackface Incident.<ref>{{Cite web |url=http://www.ksby.com/story/37979871/cal-poly-president-suspends-greek-life-indefinitely |title=Archived copy |access-date=2019-01-25 |archive-url=https://web.archive.org/web/20180926114650/http://www.ksby.com/story/37979871/cal-poly-president-suspends-greek-life-indefinitely |archive-date=2018-09-26 |dead-url=yes |df= }}</ref>\n",
      "+{{as of|2018|April|17|df=US}}, Greek Life has been suspended indefinitely by the university following a number of racial controversies, the most recent of which being the 2018 Cal Poly Blackface Incident.<ref>http://www.ksby.com/story/37979871/cal-poly-president-suspends-greek-life-indefinitely</ref>\n",
      " \n",
      " ===Week of Welcome orientation program===\n",
      " The Week of Welcome program, more commonly known as \"WOW\", serves as a volunteer-based orientation program for new students during the first week after move-in during the beginning of the school year in September. Its purpose is to introduce students to the campus and the community and prepare them for a successful college career. Freshmen are placed in a group with 10–12 other new students while transfer students are in groups of 40-60; each group is led by two current Cal Poly student orientation leaders.  The \"WOW\" groups participate in an array of orientation events in addition to activities both on- and off-campus. In 2010, the awareness section of the program won the 2010 National Orientation Directors Association (NODAC) Media & Publications Showcase Award in the Emerging Technologies. The awareness section was entirely developed by student volunteers. The program started in 1956 and is now the largest volunteer orientation program in the nation.<ref>{{cite web |url=http://mustangdaily.net/history-of-wow-by-kristy-gonzalez |title=History of WOW |accessdate=October 15, 2012 |deadurl=yes |archiveurl=https://web.archive.org/web/20120920023153/http://mustangdaily.net/history-of-wow-by-kristy-gonzalez/ |archivedate=September 20, 2012 |df= }}</ref>\n",
      " \n",
      " ===Clubs and independent student organizations===\n",
      "-Cal Poly has many recognized clubs and independent student organizations operating on campus. Included (a full list available on the [http://www.asi.calpoly.edu/university_union/club_services Associated Students, Incorporated] website) are over 150 groups, including, among many others, cultural clubs and exchanges, mathematics and science clubs, religious and atheistic groups, service organizations, engineering research and development clubs, professional development organizations, a perennial Rose Parade Float design program, LGBTQ+ and Multicultural groups, competitive and social athletic teams, and academic honors clubs. Especially impressive are the engineering clubs and independent student organizations on campus such as [[Prove Lab]], PolySat, [[CubeSat]], and QL+.<ref>{{Cite web|url=https://bmed.calpoly.edu/student-groups/ql-quality-life-plus|title=QL+ (Quality of Life Plus) - Student Clubs - Cal Poly, San Luis Obispo|website=bmed.calpoly.edu|language=en-US|access-date=2018-04-26|archive-url=https://web.archive.org/web/20180901000920/https://bmed.calpoly.edu/student-groups/ql-quality-life-plus|archive-date=2018-09-01|dead-url=yes|df=}}</ref>\n",
      "+Cal Poly has many recognized clubs and independent student organizations operating on campus. Included (a full list available on the [http://www.asi.calpoly.edu/university_union/club_services Associated Students, Incorporated] website) are over 150 groups, including, among many others, cultural clubs and exchanges, mathematics and science clubs, religious and atheistic groups, service organizations, engineering research and development clubs, professional development organizations, a perennial Rose Parade Float design program, LGBTQ+ and Multicultural groups, competitive and social athletic teams, and academic honors clubs. Especially impressive are the engineering clubs and independent student organizations on campus such as [[Prove Lab]], PolySat, [[CubeSat]], and QL+.<ref>{{Cite web|url=https://bmed.calpoly.edu/student-groups/ql-quality-life-plus|title=QL+ (Quality of Life Plus) - Student Clubs - Cal Poly, San Luis Obispo|website=bmed.calpoly.edu|language=en-US|access-date=2018-04-26}}</ref>\n",
      " \n",
      " ===Racial and economic diversity of student body===\n",
      " \n",
      "@@ -322,7 +321,7 @@\n",
      " |\n",
      " |}\n",
      " \n",
      "-{{as of|2018}}, Cal Poly San Luis Obispo has the least racially diverse student population of all [[California State University]] and [[University of California]] campuses, though it is still far more diverse than the surrounding community it serves.<ref>{{cite news|url=http://www.latimes.com/local/lanow/la-me-ln-cal-poly-racism-20180425-story.html|title=Cal Poly is the whitest public university in California — by a lot|last1=Clark|first1=Lucas|accessdate=25 April 2018}}</ref>  President Armstrong has been working to increase the percentage of non-white students on campus, boasting a drop of white students as a share of the university student body from 63% to 55%.<ref name=\"auto\">{{Cite news|url=http://www.ksby.com/story/37979871/cal-poly-president-suspends-greek-life-indefinitely|title=Cal Poly president suspends Greek Life indefinitely|last=Staff|first=KSBY|access-date=2018-05-04|language=en|archive-url=https://web.archive.org/web/20180421031458/http://www.ksby.com/story/37979871/cal-poly-president-suspends-greek-life-indefinitely|archive-date=2018-04-21|dead-url=yes|df=}}</ref> The city of San Luis Obispo is 84.5% white.<ref>{{Cite web|url=https://www.census.gov/2010census/popmap/ipmtext.php?fl=06:0668154|archive-url=https://archive.today/20140715043624/http://www.census.gov/2010census/popmap/ipmtext.php?fl=06:0668154|dead-url=yes|archive-date=2014-07-15|title=US Census Bureau 2010 Census Interactive Population Map|last=Staff|first=Website Services & Coordination|website=www.census.gov|language=EN-US|access-date=2018-05-04}}</ref> About 84.2% of the students attending California Polytechnic State University - San Luis Obispo come from within California.<ref>{{Cite web|url=https://www.collegefactual.com/colleges/california-polytechnic-state-university-san-luis-obispo/student-life/diversity/|title=California Polytechnic State University - San Luis Obispo Diversity: How Good is it?}}</ref>\n",
      "+{{as of|2018}}, Cal Poly San Luis Obispo has the least racially diverse student population of all [[California State University]] and [[University of California]] campuses, though it is still far more diverse than the surrounding community it serves.<ref>{{cite news|url=http://www.latimes.com/local/lanow/la-me-ln-cal-poly-racism-20180425-story.html|title=Cal Poly is the whitest public university in California — by a lot|last1=Clark|first1=Lucas|accessdate=25 April 2018}}</ref>  President Armstrong has been working to increase the percentage of non-white students on campus, boasting a drop of white students as a share of the university student body from 63% to 55%.<ref name=\"auto\">{{Cite news|url=http://www.ksby.com/story/37979871/cal-poly-president-suspends-greek-life-indefinitely|title=Cal Poly president suspends Greek Life indefinitely|last=Staff|first=KSBY|access-date=2018-05-04|language=en}}</ref> The city of San Luis Obispo is 84.5% white.<ref>{{Cite web|url=https://www.census.gov/2010census/popmap/ipmtext.php?fl=06:0668154|archive-url=https://archive.today/20140715043624/http://www.census.gov/2010census/popmap/ipmtext.php?fl=06:0668154|dead-url=yes|archive-date=2014-07-15|title=US Census Bureau 2010 Census Interactive Population Map|last=Staff|first=Website Services & Coordination|website=www.census.gov|language=EN-US|access-date=2018-05-04}}</ref> About 84.2% of the students attending California Polytechnic State University - San Luis Obispo come from within California.<ref>{{Cite web|url=https://www.collegefactual.com/colleges/california-polytechnic-state-university-san-luis-obispo/student-life/diversity/|title=California Polytechnic State University - San Luis Obispo Diversity: How Good is it?}}</ref>\n",
      " \n",
      " The ''[[Los Angeles Times]]'' reported that the university \"was ranked one of the nation’s worst seven institutions for Latino student success.\"<ref>{{cite web|last1=Watanabe|first1=Teresa|title=Five California colleges rank in top 10 for high Latino grad rates|url=http://www.latimes.com/local/education/la-essential-education-updates-southern-five-california-colleges-rank-in-top-10-1513278793-htmlstory.html|accessdate=15 May 2018}}</ref><ref>{{cite web|last1=Nichols|first1=Andrew|title=A Look at Latino Student Success:  Identifying Top- and Bottom-Performing Institutions|url=https://1k9gl1yevnfp2lpq1dhrqe17-wpengine.netdna-ssl.com/wp-content/uploads/2014/09/Latino_Success_Report_Final.pdf|accessdate=15 May 2018}}</ref>\n",
      " \n",
      "@@ -362,7 +361,7 @@\n",
      " \n",
      " === Blackface incident ===\n",
      " \n",
      "-In 2018, the [[Lambda Chi Alpha]] fraternity was suspended following a photo surfacing that showed a student wearing blackface.<ref>{{Cite news|url=http://www.ksby.com/story/37915987/cal-poly-fraternity-suspended-after-blackface-photo-surfaces|title=Cal Poly fraternity suspended after blackface, gangster photos surface|last=Casey|first=Molly|access-date=2018-05-04|language=en|archive-url=https://web.archive.org/web/20180505070650/http://www.ksby.com/story/37915987/cal-poly-fraternity-suspended-after-blackface-photo-surfaces|archive-date=2018-05-05|dead-url=yes|df=}}</ref> In response to further protests, President Armstrong suspended all Greek Life on campus indefinitely.<ref name=\"auto\"/> This was followed with protests during Open House events for incoming freshmen. On May 4, 2018, President Armstrong announced yet another blackface incident that was mocking the prior incident. The incident is being investigated by the state.<ref>{{Cite news|url=http://www.ksby.com/story/38115654/cal-poly-president-announces-state-investigation-as-new-blackface-related-photo-surfaces|title=Cal Poly president announces state investigation as new blackface-related photo surfaces|last=Staff|first=KSBY|access-date=2018-05-04|language=en|archive-url=https://web.archive.org/web/20180504223131/http://www.ksby.com/story/38115654/cal-poly-president-announces-state-investigation-as-new-blackface-related-photo-surfaces|archive-date=2018-05-04|dead-url=yes|df=}}</ref>\n",
      "+In 2018, the [[Lambda Chi Alpha]] fraternity was suspended following a photo surfacing that showed a student wearing blackface.<ref>{{Cite news|url=http://www.ksby.com/story/37915987/cal-poly-fraternity-suspended-after-blackface-photo-surfaces|title=Cal Poly fraternity suspended after blackface, gangster photos surface|last=Casey|first=Molly|access-date=2018-05-04|language=en}}</ref> In response to further protests, President Armstrong suspended all Greek Life on campus indefinitely.<ref name=\"auto\"/> This was followed with protests during Open House events for incoming freshmen. On May 4, 2018, President Armstrong announced yet another blackface incident that was mocking the prior incident. The incident is being investigated by the state.<ref>{{Cite news|url=http://www.ksby.com/story/38115654/cal-poly-president-announces-state-investigation-as-new-blackface-related-photo-surfaces|title=Cal Poly president announces state investigation as new blackface-related photo surfaces|last=Staff|first=KSBY|access-date=2018-05-04|language=en}}</ref>\n",
      " \n",
      " ==Administrative organization==\n",
      " \n",
      "@@ -386,7 +385,7 @@\n",
      " \n",
      " ==Notable alumni==\n",
      " {{main|List of Cal Poly at San Luis Obispo alumni}}\n",
      "-Cal Poly has more than 170,000 alumni living and working everywhere from New York to Washington D.C. to Wisconsin to Idaho to Hawaii.<ref name=\"Athletics2\">{{cite web|url=http://www.gopoly.com/inside_athletics/whycalpoly|title=Cal Poly: Athletic and Academic Excellence|accessdate=December 16, 2012}}</ref>  Alumni include [[Peter Oppenheimer]], Chief Financial Officer of [[Apple Inc.]]; Farzad Nazem, Chief Technology Officer of [[Yahoo!|Yahoo]]; Linda Ozawa, founder of [[Jamba Juice]]; Richard Bergquist, founder of [[PeopleSoft]]; Gary Erickson, founder of [[Clif Bar]]; Noel Lee, founder of [[Monster Cable]]; [[William H. Swanson|William Swanson]], CEO and founder of [[Raytheon]]; [[Burt Rutan]], aerospace pioneer; [[Weird Al Yankovic]], comedic musician; and [[John Madden]], [[Pro Football Hall of Fame|NFL Hall of Fame coach]], [[David Nwaba]], shooting guard for the [[Cleveland Cavaliers]], [[Ozzie Smith]], [[Baseball Hall of Fame]] Major League Baseball player, and [[NASA]] Astronaut [[Victor J. Glover|Victor Glover]].<ref>https://www.nasa.gov/astronauts/biographies/victor-j-glover</ref>.\n",
      "+Cal Poly has more than 170,000 alumni living and working everywhere from New York to Washington D.C. to Wisconsin to Idaho to Hawaii.<ref name=\"Athletics2\">{{cite web|url=http://www.gopoly.com/inside_athletics/whycalpoly|title=Cal Poly: Athletic and Academic Excellence|accessdate=December 16, 2012}}</ref>  Alumni include [[Peter Oppenheimer]], Chief Financial Officer of [[Apple Inc.]]; Farzad Nazem, Chief Technology Officer of [[Yahoo!|Yahoo]]; Linda Ozawa, founder of [[Jamba Juice]]; Richard Bergquist, founder of [[PeopleSoft]]; Gary Erickson, founder of [[Clif Bar]]; Noel Lee, founder of [[Monster Cable]]; [[William H. Swanson|William Swanson]], CEO and founder of [[Raytheon]]; [[Burt Rutan]], aerospace pioneer; [[Weird Al Yankovic]], comedic musician; and [[John Madden]], [[Pro Football Hall of Fame|NFL Hall of Fame coach]], [[David Nwaba]], shooting guard for the Chicago Bulls, [[Ozzie Smith]], [[Baseball Hall of Fame]] Major League Baseball player, and [[NASA]] Astronaut [[Victor J. Glover|Victor Glover]].<ref>https://www.nasa.gov/astronauts/biographies/victor-j-glover</ref>.\n",
      " \n",
      " ==See also==\n",
      " * [[California Master Plan for Higher Education]]\n",
      "\n"
     ]
    }
   ],
   "source": [
    "print(_unidiff_output(revisions[\"*\"].iloc[0],revisions[\"*\"].iloc[20]))"
   ]
  }
 ],
 "metadata": {
  "kernelspec": {
   "display_name": "Python 3",
   "language": "python",
   "name": "python3"
  },
  "language_info": {
   "codemirror_mode": {
    "name": "ipython",
    "version": 3
   },
   "file_extension": ".py",
   "mimetype": "text/x-python",
   "name": "python",
   "nbconvert_exporter": "python",
   "pygments_lexer": "ipython3",
   "version": "3.7.3"
  }
 },
 "nbformat": 4,
 "nbformat_minor": 2
}
