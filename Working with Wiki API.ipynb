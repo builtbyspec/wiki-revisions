{
 "cells": [
  {
   "cell_type": "code",
   "execution_count": 1,
   "metadata": {},
   "outputs": [],
   "source": [
    "import requests\n",
    "from requests import get\n",
    "import pandas as pd\n",
    "from pandas.io.json import json_normalize\n",
    "import numpy as np"
   ]
  },
  {
   "cell_type": "code",
   "execution_count": 2,
   "metadata": {},
   "outputs": [],
   "source": [
    "def flatten_dict(df, column_name):\n",
    "    df1 = df.copy()\n",
    "    flatten_col = json_normalize(df1[column_name].tolist())\n",
    "    df1 = pd.concat([df1,flatten_col], sort = False, axis = 1)\n",
    "    df1 = df1.drop(column_name, axis = 1)\n",
    "    return df1"
   ]
  },
  {
   "cell_type": "markdown",
   "metadata": {},
   "source": [
    "Read the API here...\n",
    "\n",
    "https://www.mediawiki.org/wiki/API:Revisions"
   ]
  },
  {
   "cell_type": "code",
   "execution_count": 3,
   "metadata": {},
   "outputs": [],
   "source": [
    "BASE_URL = \"http://en.wikipedia.org/w/api.php\"\n",
    "TITLE = 'California Polytechnic State University'\n",
    "\n",
    "parameters = { 'action': 'query',\n",
    "           'format': 'json',\n",
    "           'continue': '',\n",
    "           'titles': TITLE,\n",
    "           'prop': 'revisions',\n",
    "           'rvprop': 'ids|userid|user|timestamp|comment|content|tags',\n",
    "           'rvlimit': 'max'}\n",
    "\n",
    "wp_call = requests.get(BASE_URL, params=parameters)\n",
    "response = wp_call.json()"
   ]
  },
  {
   "cell_type": "code",
   "execution_count": 4,
   "metadata": {},
   "outputs": [],
   "source": [
    "total_revisions = 0\n",
    "pages = []\n",
    "counter = 0\n",
    "num_calls = 10\n",
    "while True:\n",
    "    wp_call = requests.get(BASE_URL, params=parameters)\n",
    "    response = wp_call.json()\n",
    "    \n",
    "    val = str(json_normalize(response,[\"query\",\"pages\"])[0][0])\n",
    "    df = json_normalize(response,[\"query\",\"pages\",val,\"revisions\"])\n",
    "    pages.append(df)\n",
    "\n",
    "    for page_id in response['query']['pages']:\n",
    "        total_revisions += len(response['query']['pages'][page_id]['revisions'])\n",
    "\n",
    "    if 'continue' in response:\n",
    "        parameters['continue'] = response['continue']['continue']\n",
    "        parameters['rvcontinue'] = response['continue']['rvcontinue']\n",
    "        counter += 1\n",
    "    else:\n",
    "        break\n",
    "    if counter == num_calls:\n",
    "        break"
   ]
  },
  {
   "cell_type": "code",
   "execution_count": 5,
   "metadata": {},
   "outputs": [],
   "source": [
    "revisions = pd.concat(pages, sort = False)"
   ]
  },
  {
   "cell_type": "code",
   "execution_count": 6,
   "metadata": {},
   "outputs": [],
   "source": [
    "def ipInfo(addr=''):\n",
    "    from urllib.request import urlopen\n",
    "    from json import load\n",
    "    if addr == '':\n",
    "        url = 'https://ipinfo.io/json'\n",
    "    else:\n",
    "        url = 'https://ipinfo.io/' + addr + '/json'\n",
    "    res = urlopen(url)\n",
    "    #response from url(if res==None then check connection)\n",
    "    data = load(res)\n",
    "    #will load the json response into data\n",
    "    dat = pd.DataFrame(data,index = range(len(data)))\n",
    "    return dat"
   ]
  },
  {
   "cell_type": "code",
   "execution_count": 7,
   "metadata": {},
   "outputs": [],
   "source": [
    "location_info = revisions[revisions[\"userid\"] == 0][\"user\"].apply(ipInfo)"
   ]
  },
  {
   "cell_type": "code",
   "execution_count": 8,
   "metadata": {},
   "outputs": [],
   "source": [
    "loc_df = pd.concat(location_info.values, sort = False, ignore_index = True)"
   ]
  },
  {
   "cell_type": "code",
   "execution_count": 9,
   "metadata": {},
   "outputs": [],
   "source": [
    "def get_fips(loc):\n",
    "    loc = loc.split(\",\")\n",
    "    lat = loc[0]\n",
    "    long = loc[1]\n",
    "    url = (\"https://geo.fcc.gov/api/census/block/find?latitude={0}&longitude={1}&format=json\".\n",
    "           format(lat,long))\n",
    "    res = requests.get(url)\n",
    "    data = res.json()\n",
    "    return data[\"County\"][\"FIPS\"]"
   ]
  },
  {
   "cell_type": "code",
   "execution_count": 10,
   "metadata": {},
   "outputs": [
    {
     "name": "stderr",
     "output_type": "stream",
     "text": [
      "/Users/ramanyakkala/anaconda3/lib/python3.7/site-packages/ipykernel_launcher.py:3: SettingWithCopyWarning: \n",
      "A value is trying to be set on a copy of a slice from a DataFrame.\n",
      "Try using .loc[row_indexer,col_indexer] = value instead\n",
      "\n",
      "See the caveats in the documentation: http://pandas.pydata.org/pandas-docs/stable/indexing.html#indexing-view-versus-copy\n",
      "  This is separate from the ipykernel package so we can avoid doing imports until\n"
     ]
    }
   ],
   "source": [
    "unique_loc = loc_df.drop_duplicates()\n",
    "\n",
    "unique_loc[\"FIPS\"] = unique_loc[\"loc\"].apply(get_fips)\n",
    "\n",
    "loc_fips = loc_df.merge(unique_loc[[\"city\",\"FIPS\"]].drop_duplicates(),\n",
    "                         on =\"city\")\n",
    "loc_fips = loc_fips[(loc_fips[\"FIPS\"] != \"None\") & ~(loc_fips[\"FIPS\"].isna())]\n",
    "loc_fips[\"FIPS\"] = loc_fips[\"FIPS\"].astype(\"int64\")"
   ]
  },
  {
   "cell_type": "code",
   "execution_count": 11,
   "metadata": {},
   "outputs": [
    {
     "name": "stderr",
     "output_type": "stream",
     "text": [
      "/Users/ramanyakkala/anaconda3/lib/python3.7/site-packages/pandas/core/frame.py:6692: FutureWarning:\n",
      "\n",
      "Sorting because non-concatenation axis is not aligned. A future version\n",
      "of pandas will change to not sort by default.\n",
      "\n",
      "To accept the future behavior, pass 'sort=False'.\n",
      "\n",
      "To retain the current behavior and silence the warning, pass 'sort=True'.\n",
      "\n",
      "\n",
      "/Users/ramanyakkala/anaconda3/lib/python3.7/site-packages/IPython/core/display.py:689: UserWarning:\n",
      "\n",
      "Consider using IPython.display.IFrame instead\n",
      "\n"
     ]
    },
    {
     "data": {
      "text/html": [
       "<iframe id=\"igraph\" scrolling=\"no\" style=\"border:none;\" seamless=\"seamless\" src=\"https://plot.ly/~chickenburrito1/4.embed\" height=\"450px\" width=\"900px\"></iframe>"
      ],
      "text/plain": [
       "<chart_studio.tools.PlotlyDisplay object>"
      ]
     },
     "execution_count": 11,
     "metadata": {},
     "output_type": "execute_result"
    }
   ],
   "source": [
    "import plotly.plotly as py\n",
    "import plotly.figure_factory as ff\n",
    "\n",
    "values = loc_fips[\"FIPS\"].value_counts().values\n",
    "fips = loc_fips[\"FIPS\"].value_counts().index\n",
    "\n",
    "endpts = list(np.mgrid[min(values):max(values):4j])\n",
    "colorscale = [\"#030512\",\"#1d1d3b\",\"#323268\",\"#3d4b94\",\"#3e6ab0\",\n",
    "              \"#4989bc\",\"#60a7c7\",\"#85c5d3\",\"#b7e0e4\",\"#eafcfd\"]\n",
    "\n",
    "fig = ff.create_choropleth(\n",
    "    fips=fips, values=values, show_state_data=True,\n",
    "    colorscale=colorscale, binning_endpoints=endpts, round_legend_values=True,\n",
    "    plot_bgcolor='rgb(229,229,229)',\n",
    "    paper_bgcolor='rgb(229,229,229)',\n",
    "    legend_title='Edits by County',\n",
    "    county_outline={'color': 'rgb(255,255,255)', 'width': 0.5},\n",
    "    exponent_format=True,\n",
    "    title = 'Map of Anonymous Revisions for Cal Poly Wiki in US',\n",
    ")\n",
    "py.iplot(fig, filename='choropleth_california')"
   ]
  },
  {
   "cell_type": "code",
   "execution_count": 12,
   "metadata": {},
   "outputs": [],
   "source": [
    "import difflib"
   ]
  },
  {
   "cell_type": "code",
   "execution_count": 13,
   "metadata": {},
   "outputs": [],
   "source": [
    "def _unidiff_output(expected, actual):\n",
    "    expected=expected.splitlines(1)\n",
    "    actual=actual.splitlines(1)\n",
    "    diff=difflib.unified_diff(expected, actual)\n",
    "    return ''.join(diff)\n"
   ]
  },
  {
   "cell_type": "code",
   "execution_count": 14,
   "metadata": {},
   "outputs": [
    {
     "name": "stdout",
     "output_type": "stream",
     "text": [
      "--- \n",
      "+++ \n",
      "@@ -17,7 +17,7 @@\n",
      " | postgrad = 881 (Fall 2016)<ref name=Enrollment/>\n",
      " | city = [[San Luis Obispo, California|San Luis Obispo]]\n",
      " | state = [[California]]\n",
      "-| country = United States\n",
      "+| country = U.S.\n",
      " | campus = Suburban, {{convert|9678|acre|ha}} Total; {{convert|1321|acre|ha}} for the Main Campus; {{convert|155|acre|ha}} for the Campus Core<ref name=quickfacts2012>{{cite web|url=http://www.calpoly.edu/aboutcp/our_campus.html |title=Our Campus - About Cal Poly - Cal Poly, San Luis Obispo |publisher=www.calpoly.edu |accessdate=July 17, 2016}}</ref>\n",
      " | colors = Green and Gold<ref>{{cite web|url=https://universitymarketing.calpoly.edu/resources/graphic-standards/primary-colors/|title=Cal Poly Marketing -   Primary Colors|website=universitymarketing.calpoly.edu|accessdate=16 May 2018}}</ref><br/>{{color box|#035642}}&nbsp;{{color box|#B4A76C}}\n",
      " | mascot = Musty the Mustang\n",
      "@@ -28,7 +28,7 @@\n",
      " | logo = [[File:Cal Poly San Luis Obispo wordmark.svg|150px]]\n",
      " }}\n",
      " \n",
      "-'''California Polytechnic State University''' (also known as '''California Polytechnic State University, San Luis Obispo''',<ref name=\"CSU styleguide\">{{cite web|title=Campus Names |url=https://www2.calstate.edu/csu-system/csu-branding-standards/editorial-style-guide/Pages/campus-names.aspx|work=calstate.edu|publisher=California State University|accessdate=October 30, 2018}}</ref> '''Cal Poly San Luis Obispo,'''<ref name=\"CSU styleguide\" /> or '''Cal Poly,'''<ref>{{cite web|url=http://warc.calpoly.edu/universityid/univnameuse.html|title=Cal Poly Name Usage|work=calpoly.edu|access-date=2008-09-30|archive-url=https://web.archive.org/web/20160303175255/http://warc.calpoly.edu/universityid/univnameuse.html|archive-date=2016-03-03|dead-url=yes|df=}}</ref>) is a [[public university]] in [[San Luis Obispo, California]]. It is one of [[Cal Poly (disambiguation)|two polytechnics]] in the [[California State University]] system.\n",
      "+'''California Polytechnic State University''' (also known as '''California Polytechnic State University, San Luis Obispo''',<ref name=\"CSU styleguide\">{{cite web|title=Campus Names |url=https://www2.calstate.edu/csu-system/csu-branding-standards/editorial-style-guide/Pages/campus-names.aspx|work=calstate.edu|publisher=California State University|accessdate=October 30, 2018}}</ref> '''Cal Poly San Luis Obispo,'''<ref name=\"CSU styleguide\" /> or '''Cal Poly,'''<ref>{{cite web|url=http://warc.calpoly.edu/universityid/univnameuse.html|title=Cal Poly Name Usage|work=calpoly.edu|access-date=2008-09-30|archive-url=https://web.archive.org/web/20160303175255/http://warc.calpoly.edu/universityid/univnameuse.html|archive-date=2016-03-03|dead-url=yes|df=}}</ref>) is a [[public university]] located in [[San Luis Obispo, California]]. It is one of [[Cal Poly (disambiguation)|two polytechnics]] in the [[California State University]] system.\n",
      " \n",
      " The university is organized into six colleges offering 64 [[bachelor's degrees|bachelor's]] and 32 [[master's degrees]].  Cal Poly San Luis Obispo primarily focuses on undergraduate education with 20,425 undergraduate and 881 graduate students.<ref name=\"PolyView\">{{cite web|url=http://content-calpoly-edu.s3.amazonaws.com/ir/1/images/Fall%202015%20PolyView%20-%20FINAL%2012_22_15.pdf|title=Poly View Fall 2015|publisher=Institutional Research, California Polytechnic State University}}</ref><ref>[http://degrees.calstate.edu/uploads/55/64/5564d4b6ec1584227ca2d1054c759f0f/Credential-Programs-08212012.pdf California State University Credential Programs - 2013-2014] {{webarchive|url=https://web.archive.org/web/20150424234126/http://degrees.calstate.edu/uploads/55/64/5564d4b6ec1584227ca2d1054c759f0f/Credential-Programs-08212012.pdf|date=2015-04-24}}</ref> The university is located in San Luis Obispo, California, often noted as one of the happiest cities in the United States,<ref>{{Cite news|url=https://www.cnn.com/2017/11/22/health/happiest-cities-blue-zones/index.html|title=The happiest cities in America, according to new research|last=|first=|date=|work=CNN|access-date=2018-01-27}}</ref><ref>{{Cite news|url=https://www.nationalgeographic.com/travel/destinations/north-america/united-states/happiest-cities-united-states-2017/|title=These Are the Happiest Cities in the United States|last=|first=|date=2017-10-18|work=National Geographic|access-date=2018-01-27}}</ref><ref>{{Cite news|url=https://www.rd.com/advice/travel/the-4-happiest-cities-on-earth/|title=The 4 Happiest Cities on Earth|date=2011-02-23|work=Reader's Digest|access-date=2018-01-27|language=en-US}}</ref><ref>{{Cite news|url=http://www.sanluisobispo.com/news/local/article39142755.html|title=Watch the 'Oprah' segment about San Luis Obispo being America's happiest city|last=|first=|date=|work=Oprah|access-date=2018-01-27|language=en}}</ref> with many alumni in Silicon Valley.<ref>{{Cite news|url=http://www.businessinsider.com/silicon-valley-hiring-most-popular-universities-2015-7/#-university-of-michigan-4|title=The 20 universities that are most likely to land you a job in Silicon Valley|work=Business Insider|access-date=2018-01-27|language=en}}</ref> The university participates in the [[Big West Conference]] in athletics.\n",
      " \n",
      "@@ -174,7 +174,6 @@\n",
      " ==Rankings==\n",
      " {{Infobox US university ranking\n",
      " | Forbes = 137\n",
      "-| THE_WSJ = 212\n",
      " | USNWR_REG = 12\n",
      " | Wamo_MASTERSU = 40\n",
      " }}\n",
      "@@ -278,10 +277,6 @@\n",
      " ===Week of Welcome orientation program===\n",
      " The Week of Welcome program, more commonly known as \"WOW\", serves as a volunteer-based orientation program for new students during the first week after move-in during the beginning of the school year in September. Its purpose is to introduce students to the campus and the community and prepare them for a successful college career. Freshmen are placed in a group with 10–12 other new students while transfer students are in groups of 40-60; each group is led by two current Cal Poly student orientation leaders.  The \"WOW\" groups participate in an array of orientation events in addition to activities both on- and off-campus. In 2010, the awareness section of the program won the 2010 National Orientation Directors Association (NODAC) Media & Publications Showcase Award in the Emerging Technologies. The awareness section was entirely developed by student volunteers. The program started in 1956 and is now the largest volunteer orientation program in the nation.<ref>{{cite web |url=http://mustangdaily.net/history-of-wow-by-kristy-gonzalez |title=History of WOW |accessdate=October 15, 2012 |deadurl=yes |archiveurl=https://web.archive.org/web/20120920023153/http://mustangdaily.net/history-of-wow-by-kristy-gonzalez/ |archivedate=September 20, 2012 |df= }}</ref>\n",
      " \n",
      "-===Cal Poly Recreation Center===\n",
      "-[[File:Cal Poly Recreation Center (San Luis Obispo).jpg|thumb|right|200px|Cal Poly Recreation Center]]\n",
      "-The [[Cal Poly Recreation Center (San Luis Obispo)|Cal Poly Recreation Center]] is the on-campus student recreation center.<ref>{{cite web |url=http://www.asi.calpoly.edu/recreation_center# |title=Cal Poly Recreation Center |publisher=calpoly.edu|accessdate=April 25, 2019}}</ref>\n",
      "-\n",
      " ===Clubs and independent student organizations===\n",
      " Cal Poly has many recognized clubs and independent student organizations operating on campus. Included (a full list available on the [http://www.asi.calpoly.edu/university_union/club_services Associated Students, Incorporated] website) are over 150 groups, including, among many others, cultural clubs and exchanges, mathematics and science clubs, religious and atheistic groups, service organizations, engineering research and development clubs, professional development organizations, a perennial Rose Parade Float design program, LGBTQ+ and Multicultural groups, competitive and social athletic teams, and academic honors clubs. Especially impressive are the engineering clubs and independent student organizations on campus such as [[Prove Lab]], PolySat, [[CubeSat]], and QL+.<ref>{{Cite web|url=https://bmed.calpoly.edu/student-groups/ql-quality-life-plus|title=QL+ (Quality of Life Plus) - Student Clubs - Cal Poly, San Luis Obispo|website=bmed.calpoly.edu|language=en-US|access-date=2018-04-26|archive-url=https://web.archive.org/web/20180901000920/https://bmed.calpoly.edu/student-groups/ql-quality-life-plus|archive-date=2018-09-01|dead-url=yes|df=}}</ref>\n",
      " \n",
      "@@ -338,7 +333,7 @@\n",
      " ==Athletics==\n",
      " {{main|Cal Poly Mustangs}}\n",
      " {{See also|Mustang Band|Cal Poly Mustangs baseball|Cal Poly Mustangs men's basketball|Cal Poly Mustangs football|Cal Poly Mustangs men's soccer}}\n",
      "-[[File:Alex G. Spanos Stadium2.jpg|thumb|Alex G. Spanos Stadium]]\n",
      "+[[File:Alex G. Spanos Stadium2.jpg|thumb|The new side of the Alex G. Spanos Stadium]]\n",
      " \n",
      " Cal Poly fields 21 varsity sports (10 for men and 11 for women)<ref name=\"Athletics\">{{cite web|url=http://www.gopoly.com/inside_athletics/whycalpoly|title=Cal Poly: Athletic and Academic Excellence|accessdate=November 2, 2017}}</ref> and participates in the [[National Collegiate Athletic Association|NCAA]]'s [[NCAA Division I|Division I]].\n",
      " \n",
      "\n"
     ]
    }
   ],
   "source": [
    "print(_unidiff_output(revisions[\"*\"].iloc[0],revisions[\"*\"].iloc[22]))"
   ]
  },
  {
   "cell_type": "code",
   "execution_count": 15,
   "metadata": {},
   "outputs": [
    {
     "data": {
      "text/plain": [
       "0     2019-04-25T07:41:33Z\n",
       "1     2019-04-25T07:07:00Z\n",
       "2     2019-04-25T07:06:19Z\n",
       "3     2019-04-25T07:05:55Z\n",
       "4     2019-04-25T06:58:12Z\n",
       "5     2019-04-20T23:15:23Z\n",
       "6     2019-04-19T20:52:23Z\n",
       "7     2019-04-19T20:52:02Z\n",
       "8     2019-04-03T11:12:50Z\n",
       "9     2019-04-03T11:12:24Z\n",
       "10    2019-04-03T04:50:17Z\n",
       "11    2019-04-03T04:45:08Z\n",
       "12    2019-03-13T13:10:54Z\n",
       "13    2019-03-13T08:54:08Z\n",
       "14    2019-03-13T08:50:27Z\n",
       "15    2019-03-13T08:49:37Z\n",
       "16    2019-03-13T08:47:40Z\n",
       "17    2019-03-13T08:46:59Z\n",
       "18    2019-03-13T08:44:58Z\n",
       "19    2019-03-13T08:43:37Z\n",
       "20    2019-03-13T08:43:24Z\n",
       "21    2019-03-13T08:40:34Z\n",
       "22    2019-03-05T19:18:41Z\n",
       "23    2019-02-20T06:20:19Z\n",
       "24    2019-01-25T14:18:13Z\n",
       "25    2019-01-24T15:17:09Z\n",
       "26    2019-01-24T15:16:45Z\n",
       "27    2019-01-24T02:36:19Z\n",
       "28    2019-01-17T23:34:12Z\n",
       "29    2019-01-17T23:34:06Z\n",
       "              ...         \n",
       "20    2014-12-05T21:03:25Z\n",
       "21    2014-12-03T19:18:23Z\n",
       "22    2014-11-28T08:11:24Z\n",
       "23    2014-11-21T22:27:10Z\n",
       "24    2014-11-21T22:27:01Z\n",
       "25    2014-11-21T16:33:49Z\n",
       "26    2014-11-21T04:30:40Z\n",
       "27    2014-11-21T03:45:00Z\n",
       "28    2014-11-21T03:13:42Z\n",
       "29    2014-11-21T02:00:52Z\n",
       "30    2014-11-10T17:04:08Z\n",
       "31    2014-11-10T16:51:44Z\n",
       "32    2014-10-30T04:25:16Z\n",
       "33    2014-10-30T04:25:09Z\n",
       "34    2014-10-15T19:00:36Z\n",
       "35    2014-10-15T18:59:39Z\n",
       "36    2014-10-06T21:17:12Z\n",
       "37    2014-09-19T15:05:41Z\n",
       "38    2014-09-17T00:15:29Z\n",
       "39    2014-09-16T15:11:46Z\n",
       "40    2014-09-16T04:27:23Z\n",
       "41    2014-09-12T20:16:45Z\n",
       "42    2014-09-12T20:10:04Z\n",
       "43    2014-09-12T04:42:38Z\n",
       "44    2014-09-12T04:39:25Z\n",
       "45    2014-09-10T02:44:58Z\n",
       "46    2014-09-09T20:36:01Z\n",
       "47    2014-09-05T17:49:59Z\n",
       "48    2014-09-05T06:00:17Z\n",
       "49    2014-09-01T01:11:47Z\n",
       "Name: timestamp, Length: 500, dtype: object"
      ]
     },
     "execution_count": 15,
     "metadata": {},
     "output_type": "execute_result"
    }
   ],
   "source": [
    "revisions[\"timestamp\"]"
   ]
  },
  {
   "cell_type": "code",
   "execution_count": null,
   "metadata": {},
   "outputs": [],
   "source": []
  }
 ],
 "metadata": {
  "kernelspec": {
   "display_name": "Python 3",
   "language": "python",
   "name": "python3"
  },
  "language_info": {
   "codemirror_mode": {
    "name": "ipython",
    "version": 3
   },
   "file_extension": ".py",
   "mimetype": "text/x-python",
   "name": "python",
   "nbconvert_exporter": "python",
   "pygments_lexer": "ipython3",
   "version": "3.7.3"
  }
 },
 "nbformat": 4,
 "nbformat_minor": 2
}
